{
 "cells": [
  {
   "cell_type": "markdown",
   "metadata": {},
   "source": [
    "# MLG: Lab 4\n",
    "\n",
    "Throughout the laboratories, questions that you should try to answer are highlighted as follow :\n",
    "\n",
    "<p style=\"background-color:#660066; color:#fff;padding:5px; font-weight:bold\">Q: This is a question</p>\n",
    "\n",
    "The file to open is [Lab4_Entropy_DecisionTree.ipynb](./Lab4_Entropy_DecisionTree.ipynb)\n",
    "\n",
    "# Report\n",
    "\n",
    "We ask you a basic report answering the following constraints:\n",
    "- You should answer all purple questions. Note that if you include your development, we can award you points for it. If you just put your answer (and if it is wrong), we will not be able to give you any points.\n",
    "- You should introduce and conclude each question with whatever you understand about it\n",
    "- Report is limited to 5 pages"
   ]
  },
  {
   "cell_type": "markdown",
   "metadata": {},
   "source": [
    "## Entropy formula"
   ]
  },
  {
   "cell_type": "markdown",
   "metadata": {},
   "source": [
    "$$H_b(X)= -\\mathbb E [\\log_b {P(X=x_i)}] = \\sum_{i=1}^nP_i\\log_b \\left(\\frac{1}{P_i}\\right)=-\\sum_{i=1}^nP_i\\log_b P_i\\,\\!$$"
   ]
  },
  {
   "cell_type": "markdown",
   "metadata": {},
   "source": [
    "## Theoretical Example"
   ]
  },
  {
   "cell_type": "markdown",
   "metadata": {},
   "source": [
    "For this example, let us look at the Wikipedia example:\n",
    "\n",
    "https://fr.wikipedia.org/wiki/Entropie_de_Shannon#Tirage_al.C3.A9atoire_dans_une_urne\n",
    "\n",
    "Let us consider an bowl containing a red, a blue, a yellow and a green ball. We choose a random ball. No color being preferred (each having one chance over four of being chosen), the entropy is at its maximum, here equal to:\n",
    "\n",
    "$$H(x) = -\\sum_{i=1}^nP_i\\log_b P_i = -\\sum_{i=1}^41/4\\log_2(1/4) = - 4*1/4\\log_2(1/4) = -\\log_2(1/4) = \\log_2(4) = 2$$\n",
    "\n",
    "If we agree that the colors are coded respectively: 00, 01, 10, 11, the information contained in the choice is indeed corresponding to 2 bits.\n",
    "\n",
    "In the case where a color is more represented than others, then the entropy is slightly reduced. Let us suppose for example that the bowl contains 4 red balls, 2 blue balls, 1 yellow and 1 green. The entropy is therefore equal to\n",
    "\n",
    "$$H(x)=7/4$$\n",
    "\n",
    "Indeed,\n",
    "\n",
    "$$\\begin{align}H(x)\n",
    "&= - \\frac{4}{8}\\log_2\\left(\\frac{4}{8}\\right) - \\frac{2}{8} \\log_2\\left(\\frac{2}{8}\\right) - \\frac{1}{8} \\log_2\\left(\\frac{1}{8}\\right) - \\frac{1}{8} \\log_2\\left(\\frac{1}{8}\\right) \\\\\n",
    "&= - \\frac{\\log_2(1/2)}{2} - \\frac{\\log_2(1/4)}{4} - \\frac{\\log_2(1/8)}{8} - \\frac{\\log_2(1/8)}{8} \\\\\n",
    "&= \\frac{\\log_2(2)}{2} + \\frac{\\log_2(4)}{4} + \\frac{\\log_2(8)}{8} + \\frac{\\log_2(8)}{8} \\\\\n",
    "&= 1/2 + 2/4 + 3/8 + 3/8 = 7/4\n",
    "\\end{align}.$$\n",
    "\n",
    "Easier than expected, no ? Let us see how entropy is used for building decision trees."
   ]
  },
  {
   "cell_type": "markdown",
   "metadata": {},
   "source": [
    "## Practical Example: Use entropy to build a Decision Tree Classifier\n",
    "\n",
    "A decision tree is a recursive partitioning methodology that uses entropy to compute the best split at each node. A split is an action that separates the data in two parts. Intuitively, we could say that the tree will repeat this procedure:\n",
    "1. Compute the entropy of the observations at the current node\n",
    "2. For all possible splits:\n",
    "    1. Compute the entropy at the left-child node\n",
    "    2. Compute the entropy at the right-child node\n",
    "    3. Sum them. This gives the split's entropy\n",
    "3. Choose the split with the minimum entropy\n",
    "\n",
    "To see this in action, let us build a basic decision tree step by step:\n",
    "\n",
    "First, let's imagine that we have some points belonging to 3 classes in a 2d space. For example, let's say they are defined like this:"
   ]
  },
  {
   "cell_type": "code",
   "execution_count": 2,
   "metadata": {
    "collapsed": false
   },
   "outputs": [
    {
     "name": "stdout",
     "output_type": "stream",
     "text": [
      "\t\tVar1\tVar2\tClass\n",
      "Point 0:\t0\t1\t0\n",
      "Point 1:\t0\t0\t0\n",
      "Point 2:\t1\t1\t1\n",
      "Point 3:\t1\t0\t2\n"
     ]
    },
    {
     "data": {
      "image/png": "[encoded data removed]",
      "text/plain": [
       "<matplotlib.figure.Figure at 0x7f561f753750>"
      ]
     },
     "metadata": {},
     "output_type": "display_data"
    }
   ],
   "source": [
    "import numpy as np\n",
    "import matplotlib.pyplot as pl\n",
    "import seaborn as sns\n",
    "%matplotlib inline\n",
    "sns.set_style('darkgrid')\n",
    "\n",
    "colors = {0: 'r', 1: 'g', 2: 'b'}\n",
    "\n",
    "points = np.array(([0,1,0],\n",
    "                   [0,0,0],\n",
    "                   [1,1,1],\n",
    "                   [1,0,2]))\n",
    "print '\\t\\tVar1\\tVar2\\tClass'\n",
    "for i, point in enumerate(points):\n",
    "    print 'Point '+str(i)+':\\t'+str(point[0])+'\\t'+str(point[1])+'\\t'+str(point[2])\n",
    "\n",
    "for class_no in np.unique(points[:,2]):\n",
    "    filtered_points = points[points[:, 2]==class_no, :]\n",
    "    pl.scatter(filtered_points[:, 0], filtered_points[:, 1], label='Class '+str(class_no), c=colors[class_no])\n",
    "legend = pl.legend(loc=5, frameon=True)\n",
    "frame = legend.get_frame()\n",
    "frame.set_edgecolor('white')\n",
    "frame.set_linewidth(3)"
   ]
  },
  {
   "cell_type": "markdown",
   "metadata": {},
   "source": [
    "We can compute the entropy, which is now:\n",
    "\n",
    "$$-(1/2*log_2(1/2)+1/4*log_2(1/4)+1/4*log_2(1/4)))=1.5$$\n",
    "\n",
    "Now, we have two available variables to split on.\n",
    "Let's try both splits:\n",
    "\n",
    "**Split on Var1:** $$Var1==0.5$$\n",
    "If we cut at 0.5 (meaning all observations with Var1 <= 0.5 will go to left-child node, while all observations with Var1 > 0.5 will go to right-child node), we find ourselves with Points 0 and 1 at the left node, and Points 2 and 3 in the right node.\n",
    "\n",
    "We can therefore compute the entropy at the left node:\n",
    "$$-(1*log_2(1))=0$$\n",
    "\n",
    "Obviously, no more entropy exists at this point, since all observations are of class 0.\n",
    "\n",
    "And at the right node:\n",
    "$$-(1/2*log_2(1/2)+1/2*log_2(1/2))=-(log_2(1/2))=1$$\n",
    "\n",
    "Therefore, the entropy gain by splitting on Var1 was:\n",
    "$$1.5 - ((0 + 1)/2) = 1.5 - 0.5 = 1$$\n",
    "\n",
    "**Split on Var2:** $$Var2==0.5$$\n",
    "If we cut at 0.5, we find ourselves with Points 1 and 3 at the left node, and Points 0 and 2 in the right node.\n",
    "\n",
    "We can therefore compute the entropy at the left node:\n",
    "$$-(1/2*log_2(1/2)+1/2*log_2(1/2))=1$$\n",
    "\n",
    "And at the right node:\n",
    "$$-(1/2*log_2(1/2)+1/2*log_2(1/2))=1$$\n",
    "\n",
    "Therefore, the entropy gain by splitting on Var2 was:\n",
    "$$1.5 - ((1 + 1)/2) = 1.5 - 1 = 0.5$$\n",
    "\n",
    "So the best split (i.e. the one with the higher entropy gain) is the split on Var1!\n",
    "\n",
    "A decision tree stops when each leaf (terminal node) contains only 1 class. In this case, the left node contains only samples from class 0, so no further split is necessary. On the contrary, the right node contains a sample from class 1 and a sample from class 2.\n",
    "\n",
    "So we need one more split on the right node... Again, we can split on Var1 and Var2. But the split on Var1 is trivial, since we can't find a value of Var1 that separates the samples. So the entropy gain will be 0 if we split on Var1.\n",
    "\n",
    "If we split on Var2 (==0.5), we have Point 3 at the left node, and Point 2 in the right node. Therefore, the entropy at the left node is 0 ($$-1*log_2(1)$$) and the entropy at the right node is also 0 (same calculus). The entropy gain is 1 (1 - ((0+0)/2)).\n",
    "\n",
    "Therefore the split on Var2 is the best one in the right node.\n",
    "\n",
    "We find ourselves with a tree looking like this (going to the left means satisfying the condition):\n",
    "\n",
    "                 Entropy: 1.5\n",
    "              Points: [0, 1, 2, 3]\n",
    "             Classes: [0, 0, 1, 2]\n",
    "                     |\n",
    "                     |\n",
    "                     |\n",
    "                 Var1<=0.5\n",
    "                /         \\\n",
    "               /           \\\n",
    "              /             \\\n",
    "         Entropy: 0        Entropy: 1\n",
    "       Points: [0, 1]    Points: [2, 3]\n",
    "       Classes: [0, 0]   Classes: [1, 2]\n",
    "                                |\n",
    "                                |\n",
    "                                |\n",
    "                            Var2<=0.5\n",
    "                           /         \\\n",
    "                          /           \\\n",
    "                         /             \\\n",
    "                    Entropy: 0      Entropy: 0\n",
    "                    Points: [3]     Points: [2]\n",
    "                    Classes: [2]    Classes: [1]\n",
    "\n",
    "\n",
    "This is the reason why we consider decision trees a \"white-box\" model. It is easy to understand and to visualize.\n",
    "\n",
    "***\n",
    "***\n",
    "\n",
    "We can now try with an automated Decision Tree Classifier building...\n",
    "\n",
    "Let's do it in the following cell:"
   ]
  },
  {
   "cell_type": "code",
   "execution_count": 3,
   "metadata": {
    "collapsed": false
   },
   "outputs": [],
   "source": [
    "from sklearn.tree import DecisionTreeClassifier, export_graphviz\n",
    "\n",
    "tree = DecisionTreeClassifier(criterion='entropy')\n",
    "\n",
    "tree = tree.fit(points[:,:-1], points[:,-1])"
   ]
  },
  {
   "cell_type": "markdown",
   "metadata": {},
   "source": [
    "In the previous cell, we asked the tree to fit the Class variable of our points (points[:,-1]) using both Var1 and Var2 values as splitting possibilities (points[:,:-1]).\n",
    "\n",
    "The tree is now complete, and we can have a look at it by exporting it to the \".dot\" format."
   ]
  },
  {
   "cell_type": "code",
   "execution_count": 4,
   "metadata": {
    "collapsed": false
   },
   "outputs": [],
   "source": [
    "export_graphviz(tree, out_file='test.dot')"
   ]
  },
  {
   "cell_type": "markdown",
   "metadata": {},
   "source": [
    "Now go on http://www.webgraphviz.com/ and copy-paste the content of the \"test.dot\" file in the box.\n",
    "\n",
    "You can look at the tree and compare it to the one we built by hand.\n",
    "\n",
    "<p style=\"background-color:#660066; color:#fff;padding:5px; font-weight:bold\">Q: What does the \"value\" parameter indicates in the resulting tree of WebGraphViz ?</p>\n",
    "\n",
    "\n",
    "<p style=\"background-color:#660066; color:#fff;padding:5px; font-weight:bold\">Q: What about the \"X[0]\" and \"X[1]\" parameters ?</p>\n",
    "\n",
    "\n",
    "<p style=\"background-color:#660066; color:#fff;padding:5px; font-weight:bold\">Q: How much leaves does our tree have ? Which one are they ?</p>"
   ]
  },
  {
   "cell_type": "markdown",
   "metadata": {},
   "source": [
    "## Exercise 1: Optimize a game of Guess Who"
   ]
  },
  {
   "cell_type": "markdown",
   "metadata": {},
   "source": [
    "![Guess Who](./guess-who.jpg)"
   ]
  },
  {
   "cell_type": "markdown",
   "metadata": {},
   "source": [
    "Let us try to determine the best questions to ask in order to win guess who in the least number of moves!\n",
    "\n",
    "Note that in the general case, building a tree is what you are naturally doing when playing guess who!\n",
    "\n",
    "In this case, we are going to make the tree building process step by step!"
   ]
  },
  {
   "cell_type": "code",
   "execution_count": 5,
   "metadata": {
    "collapsed": false,
    "scrolled": true
   },
   "outputs": [
    {
     "data": {
      "text/html": [
       "<div>\n",
       "<table border=\"1\" class=\"dataframe\">\n",
       "  <thead>\n",
       "    <tr style=\"text-align: right;\">\n",
       "      <th></th>\n",
       "      <th>Beard</th>\n",
       "      <th>Hair</th>\n",
       "      <th>Real</th>\n",
       "      <th>Sex</th>\n",
       "      <th>Names</th>\n",
       "    </tr>\n",
       "  </thead>\n",
       "  <tbody>\n",
       "    <tr>\n",
       "      <th>0</th>\n",
       "      <td>Yes</td>\n",
       "      <td>Brown</td>\n",
       "      <td>No</td>\n",
       "      <td>Male</td>\n",
       "      <td>Dumbledore</td>\n",
       "    </tr>\n",
       "    <tr>\n",
       "      <th>1</th>\n",
       "      <td>No</td>\n",
       "      <td>Brown</td>\n",
       "      <td>Yes</td>\n",
       "      <td>Male</td>\n",
       "      <td>Woody Allen</td>\n",
       "    </tr>\n",
       "    <tr>\n",
       "      <th>2</th>\n",
       "      <td>No</td>\n",
       "      <td>Brown</td>\n",
       "      <td>Yes</td>\n",
       "      <td>Female</td>\n",
       "      <td>Beyoncé</td>\n",
       "    </tr>\n",
       "    <tr>\n",
       "      <th>3</th>\n",
       "      <td>Yes</td>\n",
       "      <td>Blond</td>\n",
       "      <td>Yes</td>\n",
       "      <td>Male</td>\n",
       "      <td>Ryan Gosling</td>\n",
       "    </tr>\n",
       "    <tr>\n",
       "      <th>4</th>\n",
       "      <td>No</td>\n",
       "      <td>Blond</td>\n",
       "      <td>No</td>\n",
       "      <td>Female</td>\n",
       "      <td>Daenerys Targaryen</td>\n",
       "    </tr>\n",
       "    <tr>\n",
       "      <th>5</th>\n",
       "      <td>No</td>\n",
       "      <td>Brown</td>\n",
       "      <td>No</td>\n",
       "      <td>Female</td>\n",
       "      <td>Lara Croft</td>\n",
       "    </tr>\n",
       "    <tr>\n",
       "      <th>6</th>\n",
       "      <td>Yes</td>\n",
       "      <td>Brown</td>\n",
       "      <td>Yes</td>\n",
       "      <td>Male</td>\n",
       "      <td>Karl Marx</td>\n",
       "    </tr>\n",
       "    <tr>\n",
       "      <th>7</th>\n",
       "      <td>No</td>\n",
       "      <td>Brown</td>\n",
       "      <td>No</td>\n",
       "      <td>Male</td>\n",
       "      <td>San Goku</td>\n",
       "    </tr>\n",
       "  </tbody>\n",
       "</table>\n",
       "</div>"
      ],
      "text/plain": [
       "  Beard   Hair Real     Sex               Names\n",
       "0   Yes  Brown   No    Male          Dumbledore\n",
       "1    No  Brown  Yes    Male         Woody Allen\n",
       "2    No  Brown  Yes  Female             Beyoncé\n",
       "3   Yes  Blond  Yes    Male        Ryan Gosling\n",
       "4    No  Blond   No  Female  Daenerys Targaryen\n",
       "5    No  Brown   No  Female          Lara Croft\n",
       "6   Yes  Brown  Yes    Male           Karl Marx\n",
       "7    No  Brown   No    Male            San Goku"
      ]
     },
     "execution_count": 5,
     "metadata": {},
     "output_type": "execute_result"
    }
   ],
   "source": [
    "import pandas as pd\n",
    "\n",
    "df = pd.DataFrame({\n",
    "        'Names': ['Dumbledore', 'Woody Allen', 'Beyoncé', 'Ryan Gosling',\n",
    "                  'Daenerys Targaryen', 'Lara Croft', 'Karl Marx', 'San Goku'\n",
    "                 ],\n",
    "        'Real': ['No', 'Yes', 'Yes', 'Yes',\n",
    "                 'No', 'No', 'Yes', 'No'\n",
    "                ],\n",
    "        'Sex': ['Male', 'Male', 'Female', 'Male',\n",
    "                'Female', 'Female', 'Male', 'Male'\n",
    "               ],\n",
    "        'Beard': ['Yes', 'No', 'No', 'Yes',\n",
    "                  'No', 'No', 'Yes', 'No'\n",
    "                 ],\n",
    "        'Hair': ['Brown', 'Brown', 'Brown', 'Blond',\n",
    "                 'Blond', 'Brown', 'Brown', 'Brown'\n",
    "                ]\n",
    "    }, columns=['Beard', 'Hair', 'Real', 'Sex', 'Names'])\n",
    "\n",
    "df.Names = pd.Categorical(df.Names)\n",
    "df.Real = pd.Categorical(df.Real)\n",
    "df.Sex = pd.Categorical(df.Sex)\n",
    "df.Beard = pd.Categorical(df.Beard)\n",
    "df.Hair = pd.Categorical(df.Hair)\n",
    "\n",
    "df"
   ]
  },
  {
   "cell_type": "markdown",
   "metadata": {},
   "source": [
    "Note that in that case, the \"classes\" are the names!\n",
    "\n",
    "Also note that even if it doesn't seem so, the variables (Hair, Beard, Sex, Real) are all 0-1 (binary) variables, like in our previous example. Therefore, you can split at 0.5 as well. (You can decide which value is 1 and which value is 0)\n",
    "\n",
    "Therefore, let's go and build the tree ourselves...\n",
    "\n",
    "***\n",
    "\n",
    "First, let's determine the entropy at the root node:\n",
    "\n",
    "<p style=\"background-color:#660066; color:#fff;padding:5px; font-weight:bold\">Q: What is the value of the entropy at the root node ?</p>\n",
    "\n",
    "Then, let's try to split on the four variables.\n",
    "\n",
    "<p style=\"background-color:#660066; color:#fff;padding:5px; font-weight:bold\">Q: What is the value of the entropy in the both child nodes (left and right) if you decide to split on the \"Beard\" variable ?</p>\n",
    "\n",
    "\n",
    "<p style=\"background-color:#660066; color:#fff;padding:5px; font-weight:bold\">Q: Same question for the \"Hair\" variable ?</p>\n",
    "\n",
    "\n",
    "<p style=\"background-color:#660066; color:#fff;padding:5px; font-weight:bold\">Q: Same question for the \"Sex\" variable ?</p>\n",
    "\n",
    "\n",
    "<p style=\"background-color:#660066; color:#fff;padding:5px; font-weight:bold\">Q: Same question for the \"Real\" variable ?</p>\n",
    "\n",
    "\n",
    "<p style=\"background-color:#660066; color:#fff;padding:5px; font-weight:bold\">Q: Therefore, what is the best variable to split on ? Why ?</p>\n",
    "\n",
    "Now that we have our first split, we can do the same for all subsequent splits.\n",
    "\n",
    "<p style=\"background-color:#660066; color:#fff;padding:5px; font-weight:bold\">Q: Finish building the tree, and for each split variable, give the entropy in both child nodes as well as the resulting entropy gain. You can do it by hand or by code!</p>\n",
    "\n",
    "\n",
    "<p style=\"background-color:#660066; color:#fff;padding:5px; font-weight:bold\">Q: Are there more than one optimal solution ? Explain why...</p>\n",
    "\n",
    "Now, let's do it the automated way:"
   ]
  },
  {
   "cell_type": "code",
   "execution_count": 6,
   "metadata": {
    "collapsed": false
   },
   "outputs": [],
   "source": [
    "from sklearn.tree import DecisionTreeClassifier, export_graphviz\n",
    "\n",
    "# We select all columns, but the \"Names\" one. This creates input_df\n",
    "input_df = df.select(lambda col: col != 'Names', axis=1)\n",
    "for col in input_df.columns:\n",
    "    input_df[col] = input_df[col].cat.codes\n",
    "\n",
    "# The \"Names\" column is used in the output_df\n",
    "output_df = df.Names.cat.codes\n",
    "\n",
    "# We train our decision tree classifier with our input_df onto our output_df\n",
    "tree_model = DecisionTreeClassifier(criterion='entropy')\n",
    "tree_model = tree_model.fit(input_df.as_matrix(), output_df.as_matrix())\n",
    "\n",
    "# And again, we can export it to a dot file and examine it \n",
    "export_graphviz(tree_model, out_file='guess_who.dot')"
   ]
  },
  {
   "cell_type": "markdown",
   "metadata": {},
   "source": [
    "Have a look at the generated tree in http://www.webgraphviz.com/ !\n",
    "\n",
    "Does it look like the one you computed by hand ? If not, try to understand where you did something wrong.\n",
    "\n",
    "For more information, you can look at the documentation on scikit-learn.org\n",
    "\n",
    "For example here is an example on the well-known iris dataset: http://scikit-learn.org/stable/auto_examples/tree/plot_iris.html#example-tree-plot-iris-py\n",
    "\n",
    "<p style=\"background-color:#660066; color:#fff;padding:5px; font-weight:bold\">Q: How many classes are there in that example ?</p>\n",
    "\n",
    "You can see that the separations are mostly straight lines (we see for example in the top-right figure that the blue class seems to be well separated by a line when \"petal width (cm) <= -0.5\"). By the way, in that example the values are standardized (the mean of each value is reduced to 0 and the standard deviation is set to 1). It is useful for many models, but not for Decision Trees.\n",
    "\n",
    "<p style=\"background-color:#660066; color:#fff;padding:5px; font-weight:bold\">Q: What are the possible splits on a real variable (i.e. not 0-1 (binary)), such as the variables in the iris dataset ?</p>\n",
    "\n",
    "<p style=\"background-color:#660066; color:#fff;padding:5px; font-weight:bold\">Q: Considering the previous question... are there any splits that are equivalent ? Why/Why not ?</p>\n",
    "\n",
    "<p style=\"background-color:#660066; color:#fff;padding:5px; font-weight:bold\">Q: Go and dig into scikit-learn documentation... What's the other splitting criterion for decision tree classifier (other than the entropy) ?</p>"
   ]
  },
  {
   "cell_type": "markdown",
   "metadata": {},
   "source": [
    "## Note\n",
    "\n",
    "You now finished the questions for this laboratory. (nicely done!)\n",
    "Your note will only be based on what is before this!\n",
    "\n",
    "Everything that follows is for fun/learning. We will:\n",
    "- apply decision trees on real data\n",
    "- see how the Random Forest algorithm works\n",
    "\n",
    "Oh and by the way: from now on, no more complicated calculus!\n",
    "Only code execution and general comprehension...\n",
    "\n",
    "So keep calm, keep focused... and read on at your own pace, it will be useful ;)"
   ]
  },
  {
   "cell_type": "markdown",
   "metadata": {},
   "source": [
    "## Titanic\n",
    "\n",
    "The following problem is about the Titanic. The purpose of this project is to try and predict who survived and who died during the wreckship of the Titanic.\n",
    "\n",
    "To help us with this, we have a training set that is available, with some features such as:\n",
    "- **survival**        Survival (0 = No; 1 = Yes)\n",
    "- **pclass**          Passenger Class (1 = 1st; 2 = 2nd; 3 = 3rd)\n",
    "- **name**            Name\n",
    "- **sex**             Sex\n",
    "- **age**             Age\n",
    "- **sibsp**           Number of Siblings/Spouses Aboard\n",
    "- **parch**           Number of Parents/Children Aboard\n",
    "- **ticket**          Ticket Number\n",
    "- **fare**            Passenger Fare\n",
    "- **cabin**           Cabin\n",
    "- **embarked**        Port of Embarkation (C = Cherbourg; Q = Queenstown; S = Southampton)\n",
    "\n",
    "Let's load the dataset and try to understand it."
   ]
  },
  {
   "cell_type": "code",
   "execution_count": 7,
   "metadata": {
    "collapsed": false
   },
   "outputs": [
    {
     "data": {
      "text/html": [
       "<div>\n",
       "<table border=\"1\" class=\"dataframe\">\n",
       "  <thead>\n",
       "    <tr style=\"text-align: right;\">\n",
       "      <th></th>\n",
       "      <th>PassengerId</th>\n",
       "      <th>Survived</th>\n",
       "      <th>Pclass</th>\n",
       "      <th>Name</th>\n",
       "      <th>Sex</th>\n",
       "      <th>Age</th>\n",
       "      <th>SibSp</th>\n",
       "      <th>Parch</th>\n",
       "      <th>Ticket</th>\n",
       "      <th>Fare</th>\n",
       "      <th>Cabin</th>\n",
       "      <th>Embarked</th>\n",
       "    </tr>\n",
       "  </thead>\n",
       "  <tbody>\n",
       "    <tr>\n",
       "      <th>0</th>\n",
       "      <td>1</td>\n",
       "      <td>0</td>\n",
       "      <td>3</td>\n",
       "      <td>Braund, Mr. Owen Harris</td>\n",
       "      <td>male</td>\n",
       "      <td>22</td>\n",
       "      <td>1</td>\n",
       "      <td>0</td>\n",
       "      <td>A/5 21171</td>\n",
       "      <td>7.2500</td>\n",
       "      <td>NaN</td>\n",
       "      <td>S</td>\n",
       "    </tr>\n",
       "    <tr>\n",
       "      <th>1</th>\n",
       "      <td>2</td>\n",
       "      <td>1</td>\n",
       "      <td>1</td>\n",
       "      <td>Cumings, Mrs. John Bradley (Florence Briggs Th...</td>\n",
       "      <td>female</td>\n",
       "      <td>38</td>\n",
       "      <td>1</td>\n",
       "      <td>0</td>\n",
       "      <td>PC 17599</td>\n",
       "      <td>71.2833</td>\n",
       "      <td>C85</td>\n",
       "      <td>C</td>\n",
       "    </tr>\n",
       "    <tr>\n",
       "      <th>2</th>\n",
       "      <td>3</td>\n",
       "      <td>1</td>\n",
       "      <td>3</td>\n",
       "      <td>Heikkinen, Miss. Laina</td>\n",
       "      <td>female</td>\n",
       "      <td>26</td>\n",
       "      <td>0</td>\n",
       "      <td>0</td>\n",
       "      <td>STON/O2. 3101282</td>\n",
       "      <td>7.9250</td>\n",
       "      <td>NaN</td>\n",
       "      <td>S</td>\n",
       "    </tr>\n",
       "  </tbody>\n",
       "</table>\n",
       "</div>"
      ],
      "text/plain": [
       "   PassengerId  Survived  Pclass  \\\n",
       "0            1         0       3   \n",
       "1            2         1       1   \n",
       "2            3         1       3   \n",
       "\n",
       "                                                Name     Sex  Age  SibSp  \\\n",
       "0                            Braund, Mr. Owen Harris    male   22      1   \n",
       "1  Cumings, Mrs. John Bradley (Florence Briggs Th...  female   38      1   \n",
       "2                             Heikkinen, Miss. Laina  female   26      0   \n",
       "\n",
       "   Parch            Ticket     Fare Cabin Embarked  \n",
       "0      0         A/5 21171   7.2500   NaN        S  \n",
       "1      0          PC 17599  71.2833   C85        C  \n",
       "2      0  STON/O2. 3101282   7.9250   NaN        S  "
      ]
     },
     "execution_count": 7,
     "metadata": {},
     "output_type": "execute_result"
    }
   ],
   "source": [
    "# For .read_csv, always use header=0 when you know row 0 is the header row\n",
    "df = pd.read_csv('train.csv', header=0)\n",
    "\n",
    "# Let's look at the first 3 rows\n",
    "df.head(3)"
   ]
  },
  {
   "cell_type": "code",
   "execution_count": 8,
   "metadata": {
    "collapsed": false
   },
   "outputs": [
    {
     "name": "stdout",
     "output_type": "stream",
     "text": [
      "PassengerId      int64\n",
      "Survived         int64\n",
      "Pclass           int64\n",
      "Name            object\n",
      "Sex             object\n",
      "Age            float64\n",
      "SibSp            int64\n",
      "Parch            int64\n",
      "Ticket          object\n",
      "Fare           float64\n",
      "Cabin           object\n",
      "Embarked        object\n",
      "dtype: object\n"
     ]
    }
   ],
   "source": [
    "print df.dtypes"
   ]
  },
  {
   "cell_type": "code",
   "execution_count": 9,
   "metadata": {
    "collapsed": false,
    "scrolled": true
   },
   "outputs": [
    {
     "data": {
      "text/html": [
       "<div>\n",
       "<table border=\"1\" class=\"dataframe\">\n",
       "  <thead>\n",
       "    <tr style=\"text-align: right;\">\n",
       "      <th></th>\n",
       "      <th>PassengerId</th>\n",
       "      <th>Survived</th>\n",
       "      <th>Pclass</th>\n",
       "      <th>Age</th>\n",
       "      <th>SibSp</th>\n",
       "      <th>Parch</th>\n",
       "      <th>Fare</th>\n",
       "    </tr>\n",
       "  </thead>\n",
       "  <tbody>\n",
       "    <tr>\n",
       "      <th>count</th>\n",
       "      <td>891.000000</td>\n",
       "      <td>891.000000</td>\n",
       "      <td>891.000000</td>\n",
       "      <td>714.000000</td>\n",
       "      <td>891.000000</td>\n",
       "      <td>891.000000</td>\n",
       "      <td>891.000000</td>\n",
       "    </tr>\n",
       "    <tr>\n",
       "      <th>mean</th>\n",
       "      <td>446.000000</td>\n",
       "      <td>0.383838</td>\n",
       "      <td>2.308642</td>\n",
       "      <td>29.699118</td>\n",
       "      <td>0.523008</td>\n",
       "      <td>0.381594</td>\n",
       "      <td>32.204208</td>\n",
       "    </tr>\n",
       "    <tr>\n",
       "      <th>std</th>\n",
       "      <td>257.353842</td>\n",
       "      <td>0.486592</td>\n",
       "      <td>0.836071</td>\n",
       "      <td>14.526497</td>\n",
       "      <td>1.102743</td>\n",
       "      <td>0.806057</td>\n",
       "      <td>49.693429</td>\n",
       "    </tr>\n",
       "    <tr>\n",
       "      <th>min</th>\n",
       "      <td>1.000000</td>\n",
       "      <td>0.000000</td>\n",
       "      <td>1.000000</td>\n",
       "      <td>0.420000</td>\n",
       "      <td>0.000000</td>\n",
       "      <td>0.000000</td>\n",
       "      <td>0.000000</td>\n",
       "    </tr>\n",
       "    <tr>\n",
       "      <th>25%</th>\n",
       "      <td>223.500000</td>\n",
       "      <td>0.000000</td>\n",
       "      <td>2.000000</td>\n",
       "      <td>20.125000</td>\n",
       "      <td>0.000000</td>\n",
       "      <td>0.000000</td>\n",
       "      <td>7.910400</td>\n",
       "    </tr>\n",
       "    <tr>\n",
       "      <th>50%</th>\n",
       "      <td>446.000000</td>\n",
       "      <td>0.000000</td>\n",
       "      <td>3.000000</td>\n",
       "      <td>28.000000</td>\n",
       "      <td>0.000000</td>\n",
       "      <td>0.000000</td>\n",
       "      <td>14.454200</td>\n",
       "    </tr>\n",
       "    <tr>\n",
       "      <th>75%</th>\n",
       "      <td>668.500000</td>\n",
       "      <td>1.000000</td>\n",
       "      <td>3.000000</td>\n",
       "      <td>38.000000</td>\n",
       "      <td>1.000000</td>\n",
       "      <td>0.000000</td>\n",
       "      <td>31.000000</td>\n",
       "    </tr>\n",
       "    <tr>\n",
       "      <th>max</th>\n",
       "      <td>891.000000</td>\n",
       "      <td>1.000000</td>\n",
       "      <td>3.000000</td>\n",
       "      <td>80.000000</td>\n",
       "      <td>8.000000</td>\n",
       "      <td>6.000000</td>\n",
       "      <td>512.329200</td>\n",
       "    </tr>\n",
       "  </tbody>\n",
       "</table>\n",
       "</div>"
      ],
      "text/plain": [
       "       PassengerId    Survived      Pclass         Age       SibSp  \\\n",
       "count   891.000000  891.000000  891.000000  714.000000  891.000000   \n",
       "mean    446.000000    0.383838    2.308642   29.699118    0.523008   \n",
       "std     257.353842    0.486592    0.836071   14.526497    1.102743   \n",
       "min       1.000000    0.000000    1.000000    0.420000    0.000000   \n",
       "25%     223.500000    0.000000    2.000000   20.125000    0.000000   \n",
       "50%     446.000000    0.000000    3.000000   28.000000    0.000000   \n",
       "75%     668.500000    1.000000    3.000000   38.000000    1.000000   \n",
       "max     891.000000    1.000000    3.000000   80.000000    8.000000   \n",
       "\n",
       "            Parch        Fare  \n",
       "count  891.000000  891.000000  \n",
       "mean     0.381594   32.204208  \n",
       "std      0.806057   49.693429  \n",
       "min      0.000000    0.000000  \n",
       "25%      0.000000    7.910400  \n",
       "50%      0.000000   14.454200  \n",
       "75%      0.000000   31.000000  \n",
       "max      6.000000  512.329200  "
      ]
     },
     "execution_count": 9,
     "metadata": {},
     "output_type": "execute_result"
    }
   ],
   "source": [
    "df.describe()"
   ]
  },
  {
   "cell_type": "code",
   "execution_count": 10,
   "metadata": {
    "collapsed": false
   },
   "outputs": [
    {
     "name": "stdout",
     "output_type": "stream",
     "text": [
      "<class 'pandas.core.frame.DataFrame'>\n",
      "Int64Index: 891 entries, 0 to 890\n",
      "Data columns (total 12 columns):\n",
      "PassengerId    891 non-null int64\n",
      "Survived       891 non-null int64\n",
      "Pclass         891 non-null int64\n",
      "Name           891 non-null object\n",
      "Sex            891 non-null object\n",
      "Age            714 non-null float64\n",
      "SibSp          891 non-null int64\n",
      "Parch          891 non-null int64\n",
      "Ticket         891 non-null object\n",
      "Fare           891 non-null float64\n",
      "Cabin          204 non-null object\n",
      "Embarked       889 non-null object\n",
      "dtypes: float64(2), int64(5), object(5)\n",
      "memory usage: 90.5+ KB\n"
     ]
    }
   ],
   "source": [
    "df.info()"
   ]
  },
  {
   "cell_type": "code",
   "execution_count": 11,
   "metadata": {
    "collapsed": false
   },
   "outputs": [
    {
     "name": "stdout",
     "output_type": "stream",
     "text": [
      "<class 'pandas.core.frame.DataFrame'>\n",
      "Int64Index: 891 entries, 0 to 890\n",
      "Data columns (total 13 columns):\n",
      "PassengerId    891 non-null int64\n",
      "Survived       891 non-null int64\n",
      "Pclass         891 non-null int64\n",
      "Name           891 non-null object\n",
      "Sex            891 non-null object\n",
      "Age            714 non-null float64\n",
      "SibSp          891 non-null int64\n",
      "Parch          891 non-null int64\n",
      "Ticket         891 non-null object\n",
      "Fare           891 non-null float64\n",
      "Cabin          204 non-null object\n",
      "Embarked       889 non-null object\n",
      "AgeFill        891 non-null float64\n",
      "dtypes: float64(3), int64(5), object(5)\n",
      "memory usage: 97.5+ KB\n"
     ]
    }
   ],
   "source": [
    "# We see that the Age column has some missing values\n",
    "# We won't be able to use these values later on...\n",
    "# We can either drop them or fill them (by the median)\n",
    "df['AgeFill'] = df.Age\n",
    "\n",
    "df.loc[df.Age.isnull(), 'AgeFill'] = df.Age.median()\n",
    "df.info()"
   ]
  },
  {
   "cell_type": "code",
   "execution_count": 12,
   "metadata": {
    "collapsed": false
   },
   "outputs": [
    {
     "data": {
      "text/html": [
       "<div>\n",
       "<table border=\"1\" class=\"dataframe\">\n",
       "  <thead>\n",
       "    <tr style=\"text-align: right;\">\n",
       "      <th></th>\n",
       "      <th>Survived</th>\n",
       "      <th>Pclass</th>\n",
       "      <th>Sex</th>\n",
       "      <th>SibSp</th>\n",
       "      <th>Parch</th>\n",
       "      <th>Fare</th>\n",
       "      <th>AgeFill</th>\n",
       "    </tr>\n",
       "  </thead>\n",
       "  <tbody>\n",
       "    <tr>\n",
       "      <th>0</th>\n",
       "      <td>0</td>\n",
       "      <td>3</td>\n",
       "      <td>male</td>\n",
       "      <td>1</td>\n",
       "      <td>0</td>\n",
       "      <td>7.2500</td>\n",
       "      <td>22</td>\n",
       "    </tr>\n",
       "    <tr>\n",
       "      <th>1</th>\n",
       "      <td>1</td>\n",
       "      <td>1</td>\n",
       "      <td>female</td>\n",
       "      <td>1</td>\n",
       "      <td>0</td>\n",
       "      <td>71.2833</td>\n",
       "      <td>38</td>\n",
       "    </tr>\n",
       "    <tr>\n",
       "      <th>2</th>\n",
       "      <td>1</td>\n",
       "      <td>3</td>\n",
       "      <td>female</td>\n",
       "      <td>0</td>\n",
       "      <td>0</td>\n",
       "      <td>7.9250</td>\n",
       "      <td>26</td>\n",
       "    </tr>\n",
       "  </tbody>\n",
       "</table>\n",
       "</div>"
      ],
      "text/plain": [
       "   Survived  Pclass     Sex  SibSp  Parch     Fare  AgeFill\n",
       "0         0       3    male      1      0   7.2500       22\n",
       "1         1       1  female      1      0  71.2833       38\n",
       "2         1       3  female      0      0   7.9250       26"
      ]
     },
     "execution_count": 12,
     "metadata": {},
     "output_type": "execute_result"
    }
   ],
   "source": [
    "# Let's drop some columns that we won't use\n",
    "df = df.drop(['PassengerId', 'Name', 'Ticket', 'Cabin', 'Embarked', 'Age'], axis=1)\n",
    "df.head(3)"
   ]
  },
  {
   "cell_type": "code",
   "execution_count": 13,
   "metadata": {
    "collapsed": false
   },
   "outputs": [
    {
     "data": {
      "text/html": [
       "<div>\n",
       "<table border=\"1\" class=\"dataframe\">\n",
       "  <thead>\n",
       "    <tr style=\"text-align: right;\">\n",
       "      <th></th>\n",
       "      <th>Survived</th>\n",
       "      <th>Pclass</th>\n",
       "      <th>Sex</th>\n",
       "      <th>SibSp</th>\n",
       "      <th>Parch</th>\n",
       "      <th>Fare</th>\n",
       "      <th>AgeFill</th>\n",
       "    </tr>\n",
       "  </thead>\n",
       "  <tbody>\n",
       "    <tr>\n",
       "      <th>0</th>\n",
       "      <td>0</td>\n",
       "      <td>3</td>\n",
       "      <td>1</td>\n",
       "      <td>1</td>\n",
       "      <td>0</td>\n",
       "      <td>7.2500</td>\n",
       "      <td>22</td>\n",
       "    </tr>\n",
       "    <tr>\n",
       "      <th>1</th>\n",
       "      <td>1</td>\n",
       "      <td>1</td>\n",
       "      <td>0</td>\n",
       "      <td>1</td>\n",
       "      <td>0</td>\n",
       "      <td>71.2833</td>\n",
       "      <td>38</td>\n",
       "    </tr>\n",
       "    <tr>\n",
       "      <th>2</th>\n",
       "      <td>1</td>\n",
       "      <td>3</td>\n",
       "      <td>0</td>\n",
       "      <td>0</td>\n",
       "      <td>0</td>\n",
       "      <td>7.9250</td>\n",
       "      <td>26</td>\n",
       "    </tr>\n",
       "  </tbody>\n",
       "</table>\n",
       "</div>"
      ],
      "text/plain": [
       "   Survived  Pclass  Sex  SibSp  Parch     Fare  AgeFill\n",
       "0         0       3    1      1      0   7.2500       22\n",
       "1         1       1    0      1      0  71.2833       38\n",
       "2         1       3    0      0      0   7.9250       26"
      ]
     },
     "execution_count": 13,
     "metadata": {},
     "output_type": "execute_result"
    }
   ],
   "source": [
    "# Let us convert the Sex column from string to int\n",
    "df['Sex'] = df['Sex'].map( {'female': 0, 'male': 1} ).astype(int)\n",
    "df.head(3)"
   ]
  },
  {
   "cell_type": "code",
   "execution_count": 14,
   "metadata": {
    "collapsed": false
   },
   "outputs": [
    {
     "name": "stdout",
     "output_type": "stream",
     "text": [
      "Survived:  342\n"
     ]
    }
   ],
   "source": [
    "X = df.drop('Survived', axis=1).as_matrix()\n",
    "y = df.Survived\n",
    "print 'Survived: ', np.count_nonzero(y)"
   ]
  },
  {
   "cell_type": "markdown",
   "metadata": {
    "collapsed": false
   },
   "source": [
    "To make sure we are not overfitting (https://class.coursera.org/ml-005/lecture/39), we need to separate between a training and a testing set.\n",
    "\n",
    "We can train on the training set, and at the end of the training step, we will look at the performance of the trained model on the testing set to see how well it generalizes."
   ]
  },
  {
   "cell_type": "code",
   "execution_count": 15,
   "metadata": {
    "collapsed": false
   },
   "outputs": [
    {
     "name": "stdout",
     "output_type": "stream",
     "text": [
      "Train dataset shape: (596, 6) (596,)\n",
      "Test dataset shape: (295, 6) (295,)\n"
     ]
    }
   ],
   "source": [
    "import sklearn.cross_validation as skcv\n",
    "\n",
    "X_train, X_test, y_train, y_test = skcv.train_test_split(X, y, test_size=0.33, random_state=42)\n",
    "print 'Train dataset shape:', X_train.shape, y_train.shape\n",
    "print 'Test dataset shape:', X_test.shape, y_test.shape"
   ]
  },
  {
   "cell_type": "markdown",
   "metadata": {},
   "source": [
    "A good thing to do when resolving a problem is to plot information about data (as we did above) and also plot it. It helps to understand what is really going on.\n",
    "\n",
    "Let's look at age variable for example... and let's plot its distribution (histogram)!\n",
    "\n",
    "We see a peak at roughly 30... this is because we filled the missing value by the median!\n",
    "So all the missing values are now equal to the median instead of being missing."
   ]
  },
  {
   "cell_type": "code",
   "execution_count": 16,
   "metadata": {
    "collapsed": false
   },
   "outputs": [
    {
     "data": {
      "image/png": "[encoded data removed]",
      "text/plain": [
       "<matplotlib.figure.Figure at 0x7f561afbdfd0>"
      ]
     },
     "metadata": {},
     "output_type": "display_data"
    }
   ],
   "source": [
    "_ = pl.hist(X_train[:,5], bins=80)"
   ]
  },
  {
   "cell_type": "markdown",
   "metadata": {},
   "source": [
    "# Decision Trees"
   ]
  },
  {
   "cell_type": "code",
   "execution_count": 17,
   "metadata": {
    "collapsed": false
   },
   "outputs": [
    {
     "name": "stdout",
     "output_type": "stream",
     "text": [
      "On training set:\n",
      "             precision    recall  f1-score   support\n",
      "\n",
      "          0       0.97      1.00      0.98       374\n",
      "          1       1.00      0.95      0.97       222\n",
      "\n",
      "avg / total       0.98      0.98      0.98       596\n",
      "\n",
      "On testing set:\n",
      "             precision    recall  f1-score   support\n",
      "\n",
      "          0       0.79      0.79      0.79       175\n",
      "          1       0.69      0.70      0.70       120\n",
      "\n",
      "avg / total       0.75      0.75      0.75       295\n",
      "\n"
     ]
    }
   ],
   "source": [
    "from sklearn.metrics import confusion_matrix, classification_report\n",
    "\n",
    "tree_model = DecisionTreeClassifier(criterion='entropy')\n",
    "\n",
    "tree_model = tree_model.fit(X_train, y_train)\n",
    "y_preds_train = tree_model.predict(X_train)\n",
    "y_preds_test = tree_model.predict(X_test)\n",
    "\n",
    "print \"On training set:\"\n",
    "print classification_report(y_train, y_preds_train)\n",
    "print \"On testing set:\"\n",
    "print classification_report(y_test, y_preds_test)\n",
    "\n",
    "# We can have a look at the generated tree by first exporting it to dot file\n",
    "export_graphviz(tree_model, out_file='tree.dot')\n",
    "# Then we can put the generaTted dot file in graphviz\n",
    "# Or use online tools like http://www.webgraphviz.com/"
   ]
  },
  {
   "cell_type": "markdown",
   "metadata": {},
   "source": [
    "Looks like we are overfitting (0.98 on training set and 0.75 in testing set)... That is bad!\n",
    "\n",
    "Let's see if we can avoid that! We need to tune the hyperparameters of the tree."
   ]
  },
  {
   "cell_type": "code",
   "execution_count": 18,
   "metadata": {
    "collapsed": false
   },
   "outputs": [
    {
     "name": "stdout",
     "output_type": "stream",
     "text": [
      "On training set:\n",
      "             precision    recall  f1-score   support\n",
      "\n",
      "          0       0.84      0.90      0.86       374\n",
      "          1       0.80      0.70      0.75       222\n",
      "\n",
      "avg / total       0.82      0.82      0.82       596\n",
      "\n",
      "On testing set:\n",
      "             precision    recall  f1-score   support\n",
      "\n",
      "          0       0.82      0.90      0.86       175\n",
      "          1       0.83      0.71      0.76       120\n",
      "\n",
      "avg / total       0.82      0.82      0.82       295\n",
      "\n"
     ]
    }
   ],
   "source": [
    "from sklearn.preprocessing import StandardScaler\n",
    "\n",
    "tree_model = DecisionTreeClassifier(criterion='entropy', max_depth=3)\n",
    "\n",
    "tree_model = tree_model.fit(X_train, y_train)\n",
    "y_preds_train = tree_model.predict(X_train)\n",
    "y_preds_test = tree_model.predict(X_test)\n",
    "\n",
    "print \"On training set:\"\n",
    "print classification_report(y_train, y_preds_train)\n",
    "print \"On testing set:\"\n",
    "print classification_report(y_test, y_preds_test)"
   ]
  },
  {
   "cell_type": "markdown",
   "metadata": {},
   "source": [
    "Yeah! It is better now! We achieved lower performances on the training data, but by doing so, we also have a better understanding of the data we never seen before (test data).\n",
    "\n",
    "This means that this second option is better!\n",
    "\n",
    "In the general case, it is complicated to tune decision trees so that they don't overfit...\n",
    "\n",
    "This is why a great algorithm takes care of that for you! Here come the **Random Forest**!\n",
    "\n",
    "Basically what it does is construct an ensemble of trees (a lot of them). And train each of them on part (generally 66%) of the data. In the end, each single tree overfits a part of the data. But at the end of the training process, each tree casts a vote, and random forest counts the class with maximum votes. The random process therefore \"suppresses\" the overfitting effect."
   ]
  },
  {
   "cell_type": "markdown",
   "metadata": {},
   "source": [
    "# Random Forest\n",
    "\n",
    "There are a few things to know about random forests:\n",
    "\n",
    "1. The more trees (estimators), the better! More trees is not equivalent to more overfitting!\n",
    "2. You don't compute the training error, you use the OOB (out of bag) error, which is equivalent\n",
    "3. You can parallelize the training since each tree is train individually"
   ]
  },
  {
   "cell_type": "code",
   "execution_count": 19,
   "metadata": {
    "collapsed": false
   },
   "outputs": [
    {
     "name": "stdout",
     "output_type": "stream",
     "text": [
      "On training set: 0.807046979866\n",
      "On testing set:\n",
      "             precision    recall  f1-score   support\n",
      "\n",
      "          0       0.82      0.85      0.83       175\n",
      "          1       0.76      0.72      0.74       120\n",
      "\n",
      "avg / total       0.80      0.80      0.80       295\n",
      "\n"
     ]
    }
   ],
   "source": [
    "from sklearn.ensemble import RandomForestClassifier\n",
    "\n",
    "rf_model = RandomForestClassifier(n_estimators=1000, oob_score=True)\n",
    "rf_model = rf_model.fit(X_train, y_train)\n",
    "\n",
    "y_preds_test = rf_model.predict(X_test)\n",
    "\n",
    "print \"On training set:\", rf_model.oob_score_\n",
    "print \"On testing set:\"\n",
    "print classification_report(y_test, y_preds_test)"
   ]
  },
  {
   "cell_type": "code",
   "execution_count": null,
   "metadata": {
    "collapsed": true
   },
   "outputs": [],
   "source": []
  }
 ],
 "metadata": {
  "kernelspec": {
   "display_name": "Python 2",
   "language": "python",
   "name": "python2"
  },
  "language_info": {
   "codemirror_mode": {
    "name": "ipython",
    "version": 2
   },
   "file_extension": ".py",
   "mimetype": "text/x-python",
   "name": "python",
   "nbconvert_exporter": "python",
   "pygments_lexer": "ipython2",
   "version": "2.7.11"
  }
 },
 "nbformat": 4,
 "nbformat_minor": 0
}
